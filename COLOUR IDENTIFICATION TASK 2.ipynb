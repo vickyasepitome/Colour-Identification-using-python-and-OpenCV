{
 "cells": [
  {
   "cell_type": "markdown",
   "id": "a3caccb9",
   "metadata": {},
   "source": [
    "# NAME:VIGNESH S\n",
    "\n",
    "# TASK-2:COLOUR DETECTION USING PYTHON AND OPENCV\n",
    "\n",
    "# (THE SPARKS FOUNDATION)"
   ]
  },
  {
   "cell_type": "code",
   "execution_count": 10,
   "id": "b68080ad",
   "metadata": {},
   "outputs": [],
   "source": [
    "import cv2\n",
    "import pandas as pd"
   ]
  },
  {
   "cell_type": "code",
   "execution_count": 2,
   "id": "6f18924a",
   "metadata": {},
   "outputs": [],
   "source": [
    "img_path = 'pic2.jpg'\n",
    "csv_path = 'coldet.csv'"
   ]
  },
  {
   "cell_type": "code",
   "execution_count": 3,
   "id": "c6a3a4ce",
   "metadata": {},
   "outputs": [],
   "source": [
    "index = ['color', 'color_name', 'hex', 'R', 'G', 'B']\n",
    "df = pd.read_csv(csv_path, names=index, header=None)"
   ]
  },
  {
   "cell_type": "code",
   "execution_count": 4,
   "id": "0079fea5",
   "metadata": {},
   "outputs": [
    {
     "name": "stdout",
     "output_type": "stream",
     "text": [
      "                    color             color_name      hex    R    G    B\n",
      "0      air_force_blue_raf   Air Force Blue (Raf)  #5d8aa8   93  138  168\n",
      "1     air_force_blue_usaf  Air Force Blue (Usaf)  #00308f    0   48  143\n",
      "2    air_superiority_blue   Air Superiority Blue  #72a0c1  114  160  193\n",
      "3         alabama_crimson        Alabama Crimson  #a32638  163   38   56\n",
      "4              alice_blue             Alice Blue  #f0f8ff  240  248  255\n",
      "..                    ...                    ...      ...  ...  ...  ...\n",
      "860         yellow_orange          Yellow Orange  #ffae42  255  174   66\n",
      "861        yellow_process       Yellow (Process)  #ffef00  255  239    0\n",
      "862            yellow_ryb           Yellow (Ryb)  #fefe33  254  254   51\n",
      "863                zaffre                 Zaffre  #0014a8    0   20  168\n",
      "864     zinnwaldite_brown      Zinnwaldite Brown  #2c1608   44   22    8\n",
      "\n",
      "[865 rows x 6 columns]\n"
     ]
    }
   ],
   "source": [
    "print(df)"
   ]
  },
  {
   "cell_type": "code",
   "execution_count": 5,
   "id": "0c16927e",
   "metadata": {},
   "outputs": [],
   "source": [
    "img = cv2.imread(img_path)\n",
    "img = cv2.resize(img, (800,600))"
   ]
  },
  {
   "cell_type": "code",
   "execution_count": 6,
   "id": "a2f0d707",
   "metadata": {},
   "outputs": [],
   "source": [
    "clicked = False\n",
    "r = g = b = xpos = ypos = 0"
   ]
  },
  {
   "cell_type": "code",
   "execution_count": 7,
   "id": "8681410f",
   "metadata": {},
   "outputs": [],
   "source": [
    "#function to calculate minimum distance from all colors and get the most matching color\n",
    "def get_color_name(R,G,B):\n",
    "\tminimum = 1000\n",
    "\tfor i in range(len(df)):\n",
    "\t\td = abs(R - int(df.loc[i,'R'])) + abs(G - int(df.loc[i,'G'])) + abs(B - int(df.loc[i,'B']))\n",
    "\t\tif d <= minimum:\n",
    "\t\t\tminimum = d\n",
    "\t\t\tcname = df.loc[i, 'color_name']\n",
    "\n",
    "\treturn cname"
   ]
  },
  {
   "cell_type": "code",
   "execution_count": 8,
   "id": "d0d1d7ee",
   "metadata": {},
   "outputs": [],
   "source": [
    "#function to get x,y coordinates of mouse double click\n",
    "def draw_function(event, x, y, flags, params):\n",
    "\tif event == cv2.EVENT_LBUTTONDBLCLK:\n",
    "\t\tglobal b, g, r, xpos, ypos, clicked\n",
    "\t\tclicked = True\n",
    "\t\txpos = x\n",
    "\t\typos = y\n",
    "\t\tb,g,r = img[y,x]\n",
    "\t\tb = int(b)\n",
    "\t\tg = int(g)\n",
    "\t\tr = int(r)"
   ]
  },
  {
   "cell_type": "code",
   "execution_count": 9,
   "id": "328665c6",
   "metadata": {},
   "outputs": [],
   "source": [
    "# creating window\n",
    "cv2.namedWindow('image')\n",
    "cv2.setMouseCallback('image', draw_function)\n",
    "\n",
    "while True:\n",
    "\tcv2.imshow('image', img)\n",
    "\tif clicked:\n",
    "\t\t#cv2.rectangle(image, startpoint, endpoint, color, thickness)-1 fills entire rectangle \n",
    "\t\tcv2.rectangle(img, (20,20), (600,60), (b,g,r), -1)\n",
    "\n",
    "\t\t#Creating text string to display( Color name and RGB values )\n",
    "\t\ttext = get_color_name(r,g,b) + ' R=' + str(r) + ' G=' + str(g) + ' B=' + str(b)\n",
    "\t\t#cv2.putText(img,text,start,font(0-7),fontScale,color,thickness,lineType )\n",
    "\t\tcv2.putText(img, text, (50,50), 2,0.8, (255,255,255),2,cv2.LINE_AA)\n",
    "\n",
    "\t\t#For very light colours we will display text in black colour\n",
    "\t\tif r+g+b >=600:\n",
    "\t\t\tcv2.putText(img, text, (50,50), 2,0.8, (0,0,0),2,cv2.LINE_AA)\n",
    "\n",
    "\tif cv2.waitKey(20) & 0xFF == 27:\n",
    "\t\tbreak\n",
    "\n",
    "cv2.destroyAllWindows()"
   ]
  }
 ],
 "metadata": {
  "kernelspec": {
   "display_name": "Python 3 (ipykernel)",
   "language": "python",
   "name": "python3"
  },
  "language_info": {
   "codemirror_mode": {
    "name": "ipython",
    "version": 3
   },
   "file_extension": ".py",
   "mimetype": "text/x-python",
   "name": "python",
   "nbconvert_exporter": "python",
   "pygments_lexer": "ipython3",
   "version": "3.10.0"
  }
 },
 "nbformat": 4,
 "nbformat_minor": 5
}
